{
 "cells": [
  {
   "cell_type": "code",
   "execution_count": 120,
   "metadata": {},
   "outputs": [],
   "source": [
    "import numpy as np\n",
    "import pandas as pd\n",
    "import matplotlib.pyplot as plt\n",
    "import sklearn as sk"
   ]
  },
  {
   "cell_type": "code",
   "execution_count": 121,
   "metadata": {},
   "outputs": [],
   "source": [
    "def load_file(filepath):\n",
    "\tdataframe = pd.read_table(filepath,sep= \",\",header=None, )\n",
    "\treturn dataframe.values"
   ]
  },
  {
   "cell_type": "code",
   "execution_count": 122,
   "metadata": {},
   "outputs": [
    {
     "name": "stdout",
     "output_type": "stream",
     "text": [
      "shape of test: \n",
      "(64311, 6)\n",
      "[[1600 'A' 252207666810782 -0.36476135 8.793503 '1.0550842;']\n",
      " [1600 'A' 252207717164786 -0.8797302 9.768784 '1.0169983;']\n",
      " [1600 'A' 252207767518790 2.0014954 11.10907 '2.619156;']\n",
      " ...\n",
      " [1600 'S' 244505711296204 -2.0469208 10.032288 '-1.2299347;']\n",
      " [1600 'S' 244505761650208 -1.3935394 9.883896 '-0.47924805;']\n",
      " [1600 'S' 244505812004212 -1.2304535 9.315079 '-0.15570068;']]\n"
     ]
    }
   ],
   "source": [
    "test = load_file(\"wisdm-dataset/raw/phone/accel/data_1600_accel_phone.txt\")\n",
    "print(\"shape of test: \")\n",
    "print(test.shape)\n",
    "print(test[:-1])\n",
    "\n"
   ]
  },
  {
   "cell_type": "code",
   "execution_count": 123,
   "metadata": {},
   "outputs": [
    {
     "data": {
      "text/html": [
       "<div>\n",
       "<style scoped>\n",
       "    .dataframe tbody tr th:only-of-type {\n",
       "        vertical-align: middle;\n",
       "    }\n",
       "\n",
       "    .dataframe tbody tr th {\n",
       "        vertical-align: top;\n",
       "    }\n",
       "\n",
       "    .dataframe thead th {\n",
       "        text-align: right;\n",
       "    }\n",
       "</style>\n",
       "<table border=\"1\" class=\"dataframe\">\n",
       "  <thead>\n",
       "    <tr style=\"text-align: right;\">\n",
       "      <th></th>\n",
       "      <th>ID</th>\n",
       "      <th>activity</th>\n",
       "      <th>X</th>\n",
       "      <th>Y</th>\n",
       "      <th>Z</th>\n",
       "    </tr>\n",
       "  </thead>\n",
       "  <tbody>\n",
       "    <tr>\n",
       "      <th>0</th>\n",
       "      <td>1600</td>\n",
       "      <td>A</td>\n",
       "      <td>-0.364761</td>\n",
       "      <td>8.793503</td>\n",
       "      <td>1.055084</td>\n",
       "    </tr>\n",
       "    <tr>\n",
       "      <th>1</th>\n",
       "      <td>1600</td>\n",
       "      <td>A</td>\n",
       "      <td>-0.879730</td>\n",
       "      <td>9.768784</td>\n",
       "      <td>1.016998</td>\n",
       "    </tr>\n",
       "    <tr>\n",
       "      <th>2</th>\n",
       "      <td>1600</td>\n",
       "      <td>A</td>\n",
       "      <td>2.001495</td>\n",
       "      <td>11.109070</td>\n",
       "      <td>2.619156</td>\n",
       "    </tr>\n",
       "    <tr>\n",
       "      <th>3</th>\n",
       "      <td>1600</td>\n",
       "      <td>A</td>\n",
       "      <td>0.450623</td>\n",
       "      <td>12.651642</td>\n",
       "      <td>0.184555</td>\n",
       "    </tr>\n",
       "    <tr>\n",
       "      <th>4</th>\n",
       "      <td>1600</td>\n",
       "      <td>A</td>\n",
       "      <td>-2.164352</td>\n",
       "      <td>13.928436</td>\n",
       "      <td>-4.422485</td>\n",
       "    </tr>\n",
       "    <tr>\n",
       "      <th>...</th>\n",
       "      <td>...</td>\n",
       "      <td>...</td>\n",
       "      <td>...</td>\n",
       "      <td>...</td>\n",
       "      <td>...</td>\n",
       "    </tr>\n",
       "    <tr>\n",
       "      <th>14286</th>\n",
       "      <td>1600</td>\n",
       "      <td>D</td>\n",
       "      <td>4.365356</td>\n",
       "      <td>4.304474</td>\n",
       "      <td>6.787476</td>\n",
       "    </tr>\n",
       "    <tr>\n",
       "      <th>14287</th>\n",
       "      <td>1600</td>\n",
       "      <td>D</td>\n",
       "      <td>4.361466</td>\n",
       "      <td>4.303711</td>\n",
       "      <td>6.867676</td>\n",
       "    </tr>\n",
       "    <tr>\n",
       "      <th>14288</th>\n",
       "      <td>1600</td>\n",
       "      <td>D</td>\n",
       "      <td>4.322098</td>\n",
       "      <td>4.285400</td>\n",
       "      <td>6.844696</td>\n",
       "    </tr>\n",
       "    <tr>\n",
       "      <th>14289</th>\n",
       "      <td>1600</td>\n",
       "      <td>D</td>\n",
       "      <td>4.300400</td>\n",
       "      <td>4.312668</td>\n",
       "      <td>6.874374</td>\n",
       "    </tr>\n",
       "    <tr>\n",
       "      <th>14290</th>\n",
       "      <td>1600</td>\n",
       "      <td>D</td>\n",
       "      <td>4.289719</td>\n",
       "      <td>4.318375</td>\n",
       "      <td>6.861145</td>\n",
       "    </tr>\n",
       "  </tbody>\n",
       "</table>\n",
       "<p>14291 rows × 5 columns</p>\n",
       "</div>"
      ],
      "text/plain": [
       "         ID activity         X          Y         Z\n",
       "0      1600        A -0.364761   8.793503  1.055084\n",
       "1      1600        A -0.879730   9.768784  1.016998\n",
       "2      1600        A  2.001495  11.109070  2.619156\n",
       "3      1600        A  0.450623  12.651642  0.184555\n",
       "4      1600        A -2.164352  13.928436 -4.422485\n",
       "...     ...      ...       ...        ...       ...\n",
       "14286  1600        D  4.365356   4.304474  6.787476\n",
       "14287  1600        D  4.361466   4.303711  6.867676\n",
       "14288  1600        D  4.322098   4.285400  6.844696\n",
       "14289  1600        D  4.300400   4.312668  6.874374\n",
       "14290  1600        D  4.289719   4.318375  6.861145\n",
       "\n",
       "[14291 rows x 5 columns]"
      ]
     },
     "execution_count": 123,
     "metadata": {},
     "output_type": "execute_result"
    }
   ],
   "source": [
    "#load data for 1 person and clean it\n",
    "def loadAndClean(filepath, filename):\n",
    "    dataframe = pd.read_table(filepath+filename,sep= \",\",header=None,\n",
    "                              names=[\"ID\",\"activity\",\"NM\",\"X\",\"Y\",\"Z\"],\n",
    "                              usecols=[\"ID\",\"activity\",\"NM\",\"X\",\"Y\",\"Z\"])\n",
    "    dataframeclean = []\n",
    "    dataframeclean = dataframe[(dataframe.activity == \"A\") | \n",
    "                               (dataframe.activity == \"B\") |\n",
    "                               (dataframe.activity == \"C\") |\n",
    "                               (dataframe.activity == \"D\") ]\n",
    "    dataframeclean = dataframeclean.filter(items=[\"ID\",\"activity\",\"X\",\"Y\",\"Z\"])\n",
    "    for i in range(0,dataframeclean.shape[0]):\n",
    "        dataframeclean.at[i,\"Z\"]= float(dataframeclean.at[i,\"Z\"].replace(\";\",\"\"))\n",
    "   \n",
    "    #print(dataframeclean)\n",
    "    \n",
    "    return dataframeclean\n",
    "\n",
    "ss = \"wisdm-dataset/raw/phone/accel/data_1600_accel_phone.txt\"\n",
    "loadAndClean(\"\",ss)"
   ]
  },
  {
   "cell_type": "code",
   "execution_count": 160,
   "metadata": {},
   "outputs": [],
   "source": [
    "filepath = \"wisdm-dataset/raw/phone/accel/\"\n",
    "filename = \"data_1600_accel_phone.txt\"\n",
    "\n",
    "def loadCleanedGroup(N1,N2):\n",
    "    ff1 = \"data_\"+str(N1)+\"_accel_phone.txt\"\n",
    "    df = loadAndClean(filepath,ff1)\n",
    "    for i in range(N1,N2+1):\n",
    "        ff2 = \"data_\"+str(i)+\"_accel_phone.txt\"\n",
    "        df2 = loadAndClean(filepath,ff2)\n",
    "        df = pd.concat([df,df2])\n",
    "        \n",
    "    #print(df.head())\n",
    "    return df\n",
    "\n",
    "df = loadCleanedGroup(1630,1650)\n",
    "\n",
    "df.to_csv('DataCleanedFull30_50.csv', header=[\"ID\",\"activity\",\"X\",\"Y\",\"Z\"])  "
   ]
  },
  {
   "cell_type": "code",
   "execution_count": 125,
   "metadata": {},
   "outputs": [
    {
     "data": {
      "text/html": [
       "<div>\n",
       "<style scoped>\n",
       "    .dataframe tbody tr th:only-of-type {\n",
       "        vertical-align: middle;\n",
       "    }\n",
       "\n",
       "    .dataframe tbody tr th {\n",
       "        vertical-align: top;\n",
       "    }\n",
       "\n",
       "    .dataframe thead th {\n",
       "        text-align: right;\n",
       "    }\n",
       "</style>\n",
       "<table border=\"1\" class=\"dataframe\">\n",
       "  <thead>\n",
       "    <tr style=\"text-align: right;\">\n",
       "      <th></th>\n",
       "      <th>ID</th>\n",
       "      <th>activity</th>\n",
       "      <th>X</th>\n",
       "      <th>Y</th>\n",
       "      <th>Z</th>\n",
       "    </tr>\n",
       "  </thead>\n",
       "  <tbody>\n",
       "    <tr>\n",
       "      <th>0</th>\n",
       "      <td>1630</td>\n",
       "      <td>A</td>\n",
       "      <td>4.921158</td>\n",
       "      <td>1.275223</td>\n",
       "      <td>1.931152</td>\n",
       "    </tr>\n",
       "    <tr>\n",
       "      <th>1</th>\n",
       "      <td>1630</td>\n",
       "      <td>A</td>\n",
       "      <td>9.198730</td>\n",
       "      <td>1.533569</td>\n",
       "      <td>1.728622</td>\n",
       "    </tr>\n",
       "    <tr>\n",
       "      <th>2</th>\n",
       "      <td>1630</td>\n",
       "      <td>A</td>\n",
       "      <td>12.073120</td>\n",
       "      <td>1.925598</td>\n",
       "      <td>1.989105</td>\n",
       "    </tr>\n",
       "    <tr>\n",
       "      <th>3</th>\n",
       "      <td>1630</td>\n",
       "      <td>A</td>\n",
       "      <td>13.473724</td>\n",
       "      <td>1.606537</td>\n",
       "      <td>2.18753</td>\n",
       "    </tr>\n",
       "    <tr>\n",
       "      <th>4</th>\n",
       "      <td>1630</td>\n",
       "      <td>A</td>\n",
       "      <td>12.950790</td>\n",
       "      <td>3.461395</td>\n",
       "      <td>3.615845</td>\n",
       "    </tr>\n",
       "  </tbody>\n",
       "</table>\n",
       "</div>"
      ],
      "text/plain": [
       "     ID activity          X         Y         Z\n",
       "0  1630        A   4.921158  1.275223  1.931152\n",
       "1  1630        A   9.198730  1.533569  1.728622\n",
       "2  1630        A  12.073120  1.925598  1.989105\n",
       "3  1630        A  13.473724  1.606537   2.18753\n",
       "4  1630        A  12.950790  3.461395  3.615845"
      ]
     },
     "execution_count": 125,
     "metadata": {},
     "output_type": "execute_result"
    }
   ],
   "source": [
    "df.head()"
   ]
  },
  {
   "cell_type": "code",
   "execution_count": 127,
   "metadata": {},
   "outputs": [
    {
     "name": "stdout",
     "output_type": "stream",
     "text": [
      "(517396, 5)\n"
     ]
    },
    {
     "data": {
      "text/html": [
       "<div>\n",
       "<style scoped>\n",
       "    .dataframe tbody tr th:only-of-type {\n",
       "        vertical-align: middle;\n",
       "    }\n",
       "\n",
       "    .dataframe tbody tr th {\n",
       "        vertical-align: top;\n",
       "    }\n",
       "\n",
       "    .dataframe thead th {\n",
       "        text-align: right;\n",
       "    }\n",
       "</style>\n",
       "<table border=\"1\" class=\"dataframe\">\n",
       "  <thead>\n",
       "    <tr style=\"text-align: right;\">\n",
       "      <th></th>\n",
       "      <th>ID</th>\n",
       "      <th>activity</th>\n",
       "      <th>X</th>\n",
       "      <th>Y</th>\n",
       "      <th>Z</th>\n",
       "    </tr>\n",
       "  </thead>\n",
       "  <tbody>\n",
       "    <tr>\n",
       "      <th>0</th>\n",
       "      <td>1630</td>\n",
       "      <td>A</td>\n",
       "      <td>4.921158</td>\n",
       "      <td>1.275223</td>\n",
       "      <td>1.931152</td>\n",
       "    </tr>\n",
       "    <tr>\n",
       "      <th>1</th>\n",
       "      <td>1630</td>\n",
       "      <td>A</td>\n",
       "      <td>9.198730</td>\n",
       "      <td>1.533569</td>\n",
       "      <td>1.728622</td>\n",
       "    </tr>\n",
       "    <tr>\n",
       "      <th>2</th>\n",
       "      <td>1630</td>\n",
       "      <td>A</td>\n",
       "      <td>12.073120</td>\n",
       "      <td>1.925598</td>\n",
       "      <td>1.989105</td>\n",
       "    </tr>\n",
       "    <tr>\n",
       "      <th>3</th>\n",
       "      <td>1630</td>\n",
       "      <td>A</td>\n",
       "      <td>13.473724</td>\n",
       "      <td>1.606537</td>\n",
       "      <td>2.187530</td>\n",
       "    </tr>\n",
       "    <tr>\n",
       "      <th>4</th>\n",
       "      <td>1630</td>\n",
       "      <td>A</td>\n",
       "      <td>12.950790</td>\n",
       "      <td>3.461395</td>\n",
       "      <td>3.615845</td>\n",
       "    </tr>\n",
       "  </tbody>\n",
       "</table>\n",
       "</div>"
      ],
      "text/plain": [
       "     ID activity          X         Y         Z\n",
       "0  1630        A   4.921158  1.275223  1.931152\n",
       "1  1630        A   9.198730  1.533569  1.728622\n",
       "2  1630        A  12.073120  1.925598  1.989105\n",
       "3  1630        A  13.473724  1.606537  2.187530\n",
       "4  1630        A  12.950790  3.461395  3.615845"
      ]
     },
     "execution_count": 127,
     "metadata": {},
     "output_type": "execute_result"
    }
   ],
   "source": [
    "df = pd.read_table(\"DataCleanedFull40_50.csv\",sep=\",\",header=[0], index_col=[0])\n",
    "print(df.shape)\n",
    "df.head()\n"
   ]
  },
  {
   "cell_type": "code",
   "execution_count": 128,
   "metadata": {},
   "outputs": [
    {
     "data": {
      "text/html": [
       "<div>\n",
       "<style scoped>\n",
       "    .dataframe tbody tr th:only-of-type {\n",
       "        vertical-align: middle;\n",
       "    }\n",
       "\n",
       "    .dataframe tbody tr th {\n",
       "        vertical-align: top;\n",
       "    }\n",
       "\n",
       "    .dataframe thead th {\n",
       "        text-align: right;\n",
       "    }\n",
       "</style>\n",
       "<table border=\"1\" class=\"dataframe\">\n",
       "  <thead>\n",
       "    <tr style=\"text-align: right;\">\n",
       "      <th></th>\n",
       "      <th>ID</th>\n",
       "      <th>activity</th>\n",
       "      <th>X</th>\n",
       "      <th>Y</th>\n",
       "      <th>Z</th>\n",
       "      <th>Label</th>\n",
       "    </tr>\n",
       "  </thead>\n",
       "  <tbody>\n",
       "    <tr>\n",
       "      <th>0</th>\n",
       "      <td>1630</td>\n",
       "      <td>A</td>\n",
       "      <td>4.921158</td>\n",
       "      <td>1.275223</td>\n",
       "      <td>1.931152</td>\n",
       "      <td>0</td>\n",
       "    </tr>\n",
       "    <tr>\n",
       "      <th>1</th>\n",
       "      <td>1630</td>\n",
       "      <td>A</td>\n",
       "      <td>9.198730</td>\n",
       "      <td>1.533569</td>\n",
       "      <td>1.728622</td>\n",
       "      <td>0</td>\n",
       "    </tr>\n",
       "    <tr>\n",
       "      <th>2</th>\n",
       "      <td>1630</td>\n",
       "      <td>A</td>\n",
       "      <td>12.073120</td>\n",
       "      <td>1.925598</td>\n",
       "      <td>1.989105</td>\n",
       "      <td>0</td>\n",
       "    </tr>\n",
       "    <tr>\n",
       "      <th>3</th>\n",
       "      <td>1630</td>\n",
       "      <td>A</td>\n",
       "      <td>13.473724</td>\n",
       "      <td>1.606537</td>\n",
       "      <td>2.187530</td>\n",
       "      <td>0</td>\n",
       "    </tr>\n",
       "    <tr>\n",
       "      <th>4</th>\n",
       "      <td>1630</td>\n",
       "      <td>A</td>\n",
       "      <td>12.950790</td>\n",
       "      <td>3.461395</td>\n",
       "      <td>3.615845</td>\n",
       "      <td>0</td>\n",
       "    </tr>\n",
       "  </tbody>\n",
       "</table>\n",
       "</div>"
      ],
      "text/plain": [
       "     ID activity          X         Y         Z  Label\n",
       "0  1630        A   4.921158  1.275223  1.931152      0\n",
       "1  1630        A   9.198730  1.533569  1.728622      0\n",
       "2  1630        A  12.073120  1.925598  1.989105      0\n",
       "3  1630        A  13.473724  1.606537  2.187530      0\n",
       "4  1630        A  12.950790  3.461395  3.615845      0"
      ]
     },
     "execution_count": 128,
     "metadata": {},
     "output_type": "execute_result"
    }
   ],
   "source": [
    "from sklearn.model_selection import train_test_split\n",
    "from sklearn.preprocessing import StandardScaler, LabelEncoder\n",
    "\n",
    "label = LabelEncoder()\n",
    "df[\"Label\"]= label.fit_transform(df[\"activity\"])\n",
    "\n",
    "label.classes_\n",
    "df.head()"
   ]
  },
  {
   "cell_type": "code",
   "execution_count": 129,
   "metadata": {},
   "outputs": [],
   "source": [
    "import tensorflow as tf\n",
    "from tensorflow.keras import Sequential\n",
    "from tensorflow.keras.layers import Flatten, Dense, Dropout, BatchNormalization\n",
    "from tensorflow.keras.layers import Conv2D, MaxPool2D\n",
    "from tensorflow.keras.optimizers import Adam\n"
   ]
  },
  {
   "cell_type": "code",
   "execution_count": 130,
   "metadata": {},
   "outputs": [
    {
     "data": {
      "text/html": [
       "<div>\n",
       "<style scoped>\n",
       "    .dataframe tbody tr th:only-of-type {\n",
       "        vertical-align: middle;\n",
       "    }\n",
       "\n",
       "    .dataframe tbody tr th {\n",
       "        vertical-align: top;\n",
       "    }\n",
       "\n",
       "    .dataframe thead th {\n",
       "        text-align: right;\n",
       "    }\n",
       "</style>\n",
       "<table border=\"1\" class=\"dataframe\">\n",
       "  <thead>\n",
       "    <tr style=\"text-align: right;\">\n",
       "      <th></th>\n",
       "      <th>x</th>\n",
       "      <th>y</th>\n",
       "      <th>z</th>\n",
       "      <th>label</th>\n",
       "    </tr>\n",
       "  </thead>\n",
       "  <tbody>\n",
       "    <tr>\n",
       "      <th>0</th>\n",
       "      <td>0.523793</td>\n",
       "      <td>0.722654</td>\n",
       "      <td>0.368031</td>\n",
       "      <td>0</td>\n",
       "    </tr>\n",
       "    <tr>\n",
       "      <th>1</th>\n",
       "      <td>1.070407</td>\n",
       "      <td>0.756752</td>\n",
       "      <td>0.330946</td>\n",
       "      <td>0</td>\n",
       "    </tr>\n",
       "    <tr>\n",
       "      <th>2</th>\n",
       "      <td>1.437714</td>\n",
       "      <td>0.808494</td>\n",
       "      <td>0.378642</td>\n",
       "      <td>0</td>\n",
       "    </tr>\n",
       "    <tr>\n",
       "      <th>3</th>\n",
       "      <td>1.616692</td>\n",
       "      <td>0.766383</td>\n",
       "      <td>0.414976</td>\n",
       "      <td>0</td>\n",
       "    </tr>\n",
       "    <tr>\n",
       "      <th>4</th>\n",
       "      <td>1.549868</td>\n",
       "      <td>1.011196</td>\n",
       "      <td>0.676510</td>\n",
       "      <td>0</td>\n",
       "    </tr>\n",
       "  </tbody>\n",
       "</table>\n",
       "</div>"
      ],
      "text/plain": [
       "          x         y         z  label\n",
       "0  0.523793  0.722654  0.368031      0\n",
       "1  1.070407  0.756752  0.330946      0\n",
       "2  1.437714  0.808494  0.378642      0\n",
       "3  1.616692  0.766383  0.414976      0\n",
       "4  1.549868  1.011196  0.676510      0"
      ]
     },
     "execution_count": 130,
     "metadata": {},
     "output_type": "execute_result"
    }
   ],
   "source": [
    "#Standardization\n",
    "X = df[[\"X\",\"Y\",\"Z\"]]\n",
    "y = df[\"Label\"]\n",
    "\n",
    "scaler = StandardScaler()\n",
    "X = scaler.fit_transform(X)\n",
    "\n",
    "scaled_X = pd.DataFrame(data = X, columns = ['x', 'y', 'z'])\n",
    "scaled_X['label'] = y.values\n",
    "\n",
    "scaled_X.head()"
   ]
  },
  {
   "cell_type": "code",
   "execution_count": 142,
   "metadata": {},
   "outputs": [
    {
     "name": "stderr",
     "output_type": "stream",
     "text": [
      "C:\\Users\\Leopold-Konrad\\AppData\\Local\\Temp\\ipykernel_21584\\551591964.py:17: FutureWarning: Unlike other reduction functions (e.g. `skew`, `kurtosis`), the default behavior of `mode` typically preserves the axis it acts along. In SciPy 1.11.0, this behavior will change: the default value of `keepdims` will become False, the `axis` over which the statistic is taken will be eliminated, and the value None will no longer be accepted. Set `keepdims` to True or False to avoid this warning.\n",
      "  label = stats.mode(df['label'][i: i + frame_size])[0][0]\n"
     ]
    },
    {
     "data": {
      "text/plain": [
       "((25866, 80, 3), (25866,))"
      ]
     },
     "execution_count": 142,
     "metadata": {},
     "output_type": "execute_result"
    }
   ],
   "source": [
    "import scipy.stats as stats\n",
    "\n",
    "Fs = 20\n",
    "frame_size = Fs*4 # 80\n",
    "hop_size = Fs # 20\n",
    "\n",
    "def get_frames(df, frame_size, hop_size):\n",
    "\n",
    "    N_FEATURES = 3\n",
    "\n",
    "    frames = []\n",
    "    labels = []\n",
    "    for i in range(0, len(df) - frame_size, hop_size):\n",
    "        x = df['x'].values[i: i + frame_size]\n",
    "        y = df['y'].values[i: i + frame_size]\n",
    "        z = df['z'].values[i: i + frame_size]\n",
    "        label = stats.mode(df['label'][i: i + frame_size])[0][0]\n",
    "        frames.append([x, y, z])\n",
    "        labels.append(label)\n",
    "\n",
    "    frames = np.asarray(frames).reshape(-1, frame_size, N_FEATURES)\n",
    "    labels = np.asarray(labels)\n",
    "\n",
    "    return frames, labels\n",
    "\n",
    "X, y = get_frames(scaled_X, frame_size, hop_size)\n",
    "\n",
    "X.shape, y.shape"
   ]
  },
  {
   "cell_type": "code",
   "execution_count": 143,
   "metadata": {},
   "outputs": [
    {
     "name": "stdout",
     "output_type": "stream",
     "text": [
      "(20692, 80, 3) (5174, 80, 3)\n",
      "(80, 3) (80, 3)\n"
     ]
    }
   ],
   "source": [
    "X_train, X_test, y_train, y_test = train_test_split(X, y, test_size = 0.2, random_state = 0, stratify = y)\n",
    "print(X_train.shape, X_test.shape)\n",
    "print(X_train[0].shape, X_test[0].shape)\n",
    "X_train = X_train.reshape(X_train.shape[0], 80, 3, 1)\n",
    "X_test = X_test.reshape(X_test.shape[0], 80, 3, 1)"
   ]
  },
  {
   "cell_type": "code",
   "execution_count": 144,
   "metadata": {},
   "outputs": [],
   "source": [
    "model = Sequential()\n",
    "model.add(Conv2D(16, (2, 2), activation = 'relu', input_shape = X_train[0].shape))\n",
    "model.add(Dropout(0.1))\n",
    "\n",
    "model.add(Conv2D(32, (2, 2), activation='relu'))\n",
    "model.add(Dropout(0.2))\n",
    "\n",
    "model.add(Flatten())\n",
    "\n",
    "model.add(Dense(64, activation = 'relu'))\n",
    "model.add(Dropout(0.5))\n",
    "\n",
    "model.add(Dense(6, activation='softmax'))"
   ]
  },
  {
   "cell_type": "code",
   "execution_count": 145,
   "metadata": {},
   "outputs": [
    {
     "name": "stdout",
     "output_type": "stream",
     "text": [
      "Epoch 1/12\n",
      "647/647 [==============================] - 6s 8ms/step - loss: 0.5951 - accuracy: 0.7430 - val_loss: 0.4262 - val_accuracy: 0.8174\n",
      "Epoch 2/12\n",
      "647/647 [==============================] - 5s 8ms/step - loss: 0.4165 - accuracy: 0.8201 - val_loss: 0.3781 - val_accuracy: 0.8326\n",
      "Epoch 3/12\n",
      "647/647 [==============================] - 5s 7ms/step - loss: 0.3826 - accuracy: 0.8358 - val_loss: 0.3462 - val_accuracy: 0.8373\n",
      "Epoch 4/12\n",
      "647/647 [==============================] - 5s 8ms/step - loss: 0.3538 - accuracy: 0.8504 - val_loss: 0.3219 - val_accuracy: 0.8643\n",
      "Epoch 5/12\n",
      "647/647 [==============================] - 5s 7ms/step - loss: 0.3234 - accuracy: 0.8626 - val_loss: 0.3032 - val_accuracy: 0.8854\n",
      "Epoch 6/12\n",
      "647/647 [==============================] - 5s 7ms/step - loss: 0.3110 - accuracy: 0.8689 - val_loss: 0.2732 - val_accuracy: 0.8925\n",
      "Epoch 7/12\n",
      "647/647 [==============================] - 5s 7ms/step - loss: 0.2862 - accuracy: 0.8784 - val_loss: 0.2587 - val_accuracy: 0.9113\n",
      "Epoch 8/12\n",
      "647/647 [==============================] - 5s 7ms/step - loss: 0.2750 - accuracy: 0.8854 - val_loss: 0.2537 - val_accuracy: 0.9117\n",
      "Epoch 9/12\n",
      "647/647 [==============================] - 5s 7ms/step - loss: 0.2540 - accuracy: 0.8941 - val_loss: 0.2295 - val_accuracy: 0.9173\n",
      "Epoch 10/12\n",
      "647/647 [==============================] - 5s 8ms/step - loss: 0.2488 - accuracy: 0.8987 - val_loss: 0.2122 - val_accuracy: 0.9262\n",
      "Epoch 11/12\n",
      "647/647 [==============================] - 5s 8ms/step - loss: 0.2355 - accuracy: 0.9043 - val_loss: 0.2119 - val_accuracy: 0.9310\n",
      "Epoch 12/12\n",
      "647/647 [==============================] - 6s 9ms/step - loss: 0.2222 - accuracy: 0.9098 - val_loss: 0.1949 - val_accuracy: 0.9347\n"
     ]
    }
   ],
   "source": [
    "model.compile(optimizer=Adam(learning_rate = 0.001), loss = 'sparse_categorical_crossentropy', metrics = ['accuracy'])\n",
    "history = model.fit(X_train, y_train, epochs = 12, validation_data= (X_test, y_test), verbose=1)"
   ]
  },
  {
   "cell_type": "code",
   "execution_count": 146,
   "metadata": {},
   "outputs": [
    {
     "data": {
      "image/png": "[encoded data removed]",
      "text/plain": [
       "<Figure size 640x480 with 1 Axes>"
      ]
     },
     "metadata": {},
     "output_type": "display_data"
    },
    {
     "data": {
      "image/png": "[encoded data removed]",
      "text/plain": [
       "<Figure size 640x480 with 1 Axes>"
      ]
     },
     "metadata": {},
     "output_type": "display_data"
    }
   ],
   "source": [
    "def plot_learningCurve(history, epochs):\n",
    "  epoch_range = range(1, epochs+1)\n",
    "  plt.plot(epoch_range, history.history['accuracy'])\n",
    "  plt.plot(epoch_range, history.history['val_accuracy'])\n",
    "  plt.title('Model accuracy')\n",
    "  plt.ylabel('Accuracy')\n",
    "  plt.xlabel('Epoch')\n",
    "  plt.legend(['Train', 'Val'], loc='upper left')\n",
    "  plt.show()\n",
    "\n",
    "  plt.plot(epoch_range, history.history['loss'])\n",
    "  plt.plot(epoch_range, history.history['val_loss'])\n",
    "  plt.title('Model loss')\n",
    "  plt.ylabel('Loss')\n",
    "  plt.xlabel('Epoch')\n",
    "  plt.legend(['Train', 'Val'], loc='upper left')\n",
    "  plt.show()\n",
    "  \n",
    "plot_learningCurve(history, 12)"
   ]
  },
  {
   "cell_type": "code",
   "execution_count": 147,
   "metadata": {},
   "outputs": [
    {
     "name": "stdout",
     "output_type": "stream",
     "text": [
      "162/162 [==============================] - 0s 3ms/step\n",
      "(5174,)\n",
      "Confusion matrix:\n",
      "[[1196    1  144    2]\n",
      " [  19 1289   34    2]\n",
      " [  98    6 1084   11]\n",
      " [   5    0   16 1267]]\n"
     ]
    },
    {
     "data": {
      "image/png": "[encoded data removed]",
      "text/plain": [
       "<Figure size 640x480 with 2 Axes>"
      ]
     },
     "metadata": {},
     "output_type": "display_data"
    }
   ],
   "source": [
    "from sklearn.metrics import confusion_matrix\n",
    "y_pred = model.predict(X_test)\n",
    "y_pp = []\n",
    "for i in range(0,len(y_pred)):\n",
    "    y_pp.append(y_pred[i].argmax())\n",
    "print(y_test.shape)\n",
    "f\"{sk.metrics.classification_report(y_test, y_pp)}\\n\"\n",
    "disp = sk.metrics.ConfusionMatrixDisplay.from_predictions(y_test, y_pp)\n",
    "disp.figure_.suptitle(\"Confusion Matrix\")\n",
    "print(f\"Confusion matrix:\\n{disp.confusion_matrix}\")\n",
    "plt.show()"
   ]
  }
 ],
 "metadata": {
  "kernelspec": {
   "display_name": "base",
   "language": "python",
   "name": "python3"
  },
  "language_info": {
   "codemirror_mode": {
    "name": "ipython",
    "version": 3
   },
   "file_extension": ".py",
   "mimetype": "text/x-python",
   "name": "python",
   "nbconvert_exporter": "python",
   "pygments_lexer": "ipython3",
   "version": "3.9.13"
  },
  "orig_nbformat": 4,
  "vscode": {
   "interpreter": {
    "hash": "e8fda66477acd628f3ea12bc8dd72e5ba6f7fa6eee5b9c9f9e6bd317e843b99d"
   }
  }
 },
 "nbformat": 4,
 "nbformat_minor": 2
}
